{
 "cells": [
  {
   "cell_type": "code",
   "execution_count": 1,
   "id": "f50867e0-5ab8-4b9d-b9a8-32c92677d099",
   "metadata": {},
   "outputs": [],
   "source": [
    "import numpy as np\n",
    "import xarray as xr\n",
    "import os\n",
    "import pandas as pd\n",
    "import glob"
   ]
  },
  {
   "cell_type": "code",
   "execution_count": 2,
   "id": "99d6d68a-4510-4377-a457-cd2c194a8a67",
   "metadata": {},
   "outputs": [],
   "source": [
    "import sys ; sys.path.append(\"../..\")\n",
    "from ppe_tools import *"
   ]
  },
  {
   "cell_type": "code",
   "execution_count": 3,
   "id": "af44572a-0e21-43ff-ba32-b3628a319d72",
   "metadata": {},
   "outputs": [],
   "source": [
    "# set directories\n",
    "exp_dir = '/glade/work/linnia/CLM6-PPE/ctsm53065_lhc/'"
   ]
  },
  {
   "cell_type": "markdown",
   "id": "6e4d19f2-6f13-4f5c-bfc3-cda632362dfa",
   "metadata": {},
   "source": [
    "### 1. Define Parameters and Ranges"
   ]
  },
  {
   "cell_type": "code",
   "execution_count": 4,
   "id": "915b9226-20e4-42bb-9665-4d0732607b20",
   "metadata": {},
   "outputs": [],
   "source": [
    "csv='clm6ppe_paramranges_10032025.csv'\n",
    "df = pd.read_csv(csv)\n",
    "df_main = df[df['include'] == 1]\n",
    "df_flagged = df[df['include'] == 0]\n",
    "params=df_main['param'].values\n",
    "flags = df_main['flag']"
   ]
  },
  {
   "cell_type": "code",
   "execution_count": 5,
   "id": "7390a3e1-733e-4176-bde5-df9a0d5061b5",
   "metadata": {},
   "outputs": [],
   "source": [
    "# grouped parameters\n",
    "KCN=['kc_nonmyc','kn_nonmyc','akc_active','akn_active','ekc_active','ekn_active']\n",
    "ACCLIM_SF=['vcmaxse_sf','jmaxse_sf','tpuse_sf']\n",
    "TAU = ['bgc_tau_s1','bgc_tau_s2','bgc_tau_s3']\n",
    "RF_LS = ['bgc_rf_l1s1','bgc_rf_l2s1','bgc_rf_l3s2']\n",
    "RF_SS = ['bgc_rf_s2s1', 'bgc_rf_s2s3', 'bgc_rf_s3s1']\n",
    "RF_CWD = ['rf_cwdl2', 'bgc_rf_cwdl3']\n",
    "\n",
    "flagged_dict = {'KCN':KCN,'ACCLIM_SF':ACCLIM_SF,'TAU':TAU,'RF_LS':RF_LS,'RF_SS':RF_SS,'RF_CWD':RF_CWD}"
   ]
  },
  {
   "cell_type": "markdown",
   "id": "eb7c9a12-b3c6-46d0-a57c-07d8731b8bc4",
   "metadata": {},
   "source": [
    "### 2. Build Parameter Dictionary"
   ]
  },
  {
   "cell_type": "code",
   "execution_count": 6,
   "id": "e29bcbc8-8aaa-435f-9e67-5ccf38dd4b70",
   "metadata": {},
   "outputs": [],
   "source": [
    "def get_minmax(df,p):\n",
    "    ix       = df['param']==p\n",
    "    minval   = df['min'][ix].values[0]\n",
    "    maxval   = df['max'][ix].values[0]\n",
    "    pftmin   = df['pft_mins'][ix].values[0]\n",
    "    pftmax   = df['pft_maxs'][ix].values[0]\n",
    "    thisloc  = df['loc'][ix].values[0]\n",
    "    thisprecision  = df['precision'][ix].values[0]\n",
    "\n",
    "    needs_pft = (minval=='pft')\n",
    "    if needs_pft:\n",
    "        thismin = np.zeros((79))\n",
    "        thismin[0:17] = np.fromstring(pftmin, dtype='float', sep=',')\n",
    "    elif 'percent' in minval:\n",
    "        thismin = minval\n",
    "    else:\n",
    "        thismin = np.array(float(minval))\n",
    "\n",
    "    needs_pft = (maxval=='pft')\n",
    "    if needs_pft:\n",
    "        thismax = np.zeros((79))\n",
    "        thismax[0:17] = np.fromstring(pftmax, dtype='float', sep=',')\n",
    "    elif 'percent' in maxval:\n",
    "        thismax = maxval\n",
    "    else:\n",
    "        thismax = np.array(float(maxval))\n",
    "\n",
    "    return thismin, thismax, thisloc, thisprecision"
   ]
  },
  {
   "cell_type": "code",
   "execution_count": 7,
   "id": "b5d990ca-58cd-4923-b59f-06d468546762",
   "metadata": {},
   "outputs": [],
   "source": [
    "lhcs = {}\n",
    "for param,flag in zip(params,flags):\n",
    "    \n",
    "    if not pd.notnull(flag):\n",
    "        thismin,thismax,thisloc,thisprecision = get_minmax(df,param)\n",
    "        lhcs[param]={'min':thismin,'max':thismax,'loc':thisloc,'flagged':[],'precision':thisprecision}\n",
    "    else:\n",
    "        flagged={}\n",
    "        for p in flagged_dict[param]:\n",
    "            thismin,thismax,thisloc,thisprecision = get_minmax(df_flagged,p)\n",
    "            flagged[p]={'min':thismin,'max':thismax,'loc':thisloc}\n",
    "        lhcs[param]={'min':[],'max':[],'loc':thisloc,'flagged':flagged,'precision':thisprecision}"
   ]
  },
  {
   "cell_type": "markdown",
   "id": "7d600ad8-4f1b-46f5-bf85-0684ec1c8378",
   "metadata": {},
   "source": [
    "### 4. Create the Ensemble Object"
   ]
  },
  {
   "cell_type": "code",
   "execution_count": 8,
   "id": "04571686-bafb-48d1-8014-eecb4fa0eaa4",
   "metadata": {},
   "outputs": [],
   "source": [
    "# 4a. instantiate the Ensemble object\n",
    "basefile = '/glade/work/linnia/CLM6-PPE/ctsm53065_lhc/paramfiles/lhc0000.nc'\n",
    "pdir = exp_dir + 'paramfiles/'\n",
    "ndir = exp_dir + 'namelist_mods/'\n",
    "x    = Ensemble(basefile,pdir,ndir)\n",
    "\n",
    "# 4b. a the new ensemble members\n",
    "prefix = 'lhc'   #make your own prefix\n",
    "nextnum=1\n",
    "n_samples=200  # set the number of ensemble members \n",
    "x.add_lhcs(lhcs,prefix,nextnum,n_samples,lhc=None) # for new LHC sample set lhc=None"
   ]
  },
  {
   "cell_type": "markdown",
   "id": "a2561ffd-4bda-4ecb-ab02-c19fa823b59e",
   "metadata": {},
   "source": [
    "### 5. Write the param_files"
   ]
  },
  {
   "cell_type": "code",
   "execution_count": 9,
   "id": "d8c7d05f-7bf4-4490-9a68-f2c84c437c3a",
   "metadata": {},
   "outputs": [],
   "source": [
    "paramset_file = exp_dir + 'clm6lhc_10032025.txt'\n",
    "x.write(lhcfile=paramset_file)"
   ]
  },
  {
   "cell_type": "code",
   "execution_count": 10,
   "id": "116c0a57",
   "metadata": {},
   "outputs": [
    {
     "name": "stdout",
     "output_type": "stream",
     "text": [
      "  File: /glade/work/linnia/CLM6-PPE/ctsm53065_lhc/clm6lhc_10032025.txt\n",
      "  Size: 435971    \tBlocks: 864        IO Block: 8388608 regular file\n",
      "Device: 42h/66d\tInode: 4977280459  Links: 1\n",
      "Access: (0644/-rw-r--r--)  Uid: (35240/  linnia)   Gid: ( 1000/    ncar)\n",
      "Access: 2025-10-03 12:12:02.303020000 -0600\n",
      "Modify: 2025-10-03 12:21:19.908396432 -0600\n",
      "Change: 2025-10-03 12:21:19.908396432 -0600\n",
      " Birth: -\n"
     ]
    }
   ],
   "source": [
    "%%bash -s \"$paramset_file\"\n",
    "# Check that the file was created\n",
    "paramset_file=$1 \n",
    "\n",
    "stat $paramset_file"
   ]
  },
  {
   "cell_type": "code",
   "execution_count": null,
   "id": "a1024fca-9725-464c-937d-749dd0cbe63e",
   "metadata": {},
   "outputs": [],
   "source": []
  }
 ],
 "metadata": {
  "kernelspec": {
   "display_name": "Python [conda env:mlenv]",
   "language": "python",
   "name": "conda-env-mlenv-py"
  },
  "language_info": {
   "codemirror_mode": {
    "name": "ipython",
    "version": 3
   },
   "file_extension": ".py",
   "mimetype": "text/x-python",
   "name": "python",
   "nbconvert_exporter": "python",
   "pygments_lexer": "ipython3",
   "version": "3.10.16"
  }
 },
 "nbformat": 4,
 "nbformat_minor": 5
}
