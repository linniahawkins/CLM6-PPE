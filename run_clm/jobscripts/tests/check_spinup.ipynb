{
 "cells": [
  {
   "cell_type": "code",
   "execution_count": 1,
   "id": "26f16ba3-1489-443e-b507-e7d4edd1f848",
   "metadata": {},
   "outputs": [],
   "source": [
    "import numpy as np\n",
    "import pandas as pd\n",
    "import xarray as xr\n",
    "import matplotlib\n",
    "import matplotlib.pyplot as plt\n",
    "import os, glob\n",
    "import dask"
   ]
  },
  {
   "cell_type": "code",
   "execution_count": 2,
   "id": "0081d643-d8d5-48cf-b8df-e319bf55c6b9",
   "metadata": {},
   "outputs": [],
   "source": [
    "def amean(da,cf=1/365):\n",
    "    #annual mean\n",
    "    m  = da['time.daysinmonth']\n",
    "    xa = cf*(m*da).groupby('time.year').sum().compute()\n",
    "    xa.name=da.name\n",
    "    return xa\n",
    "\n",
    "def gmean(da,la,g=[],cf=None,u=None):\n",
    "    '''\n",
    "    g defines the averaging group,\n",
    "    g=[] is global, otherwise use ds.biome or ds.pft\n",
    "    '''\n",
    "    if len(g)==0:\n",
    "        g=xr.DataArray(np.tile('global',len(da.gridcell)),dims='gridcell')\n",
    "    if not cf:\n",
    "        cf=1/la.groupby(g).sum()\n",
    "    with dask.config.set(**{'array.slicing.split_large_chunks': True}):\n",
    "        x=cf*(da*la).groupby(g).sum()\n",
    "    x.name=da.name\n",
    "    x.attrs=da.attrs\n",
    "    if u:\n",
    "        x.attrs['units']=u\n",
    "    if 'group' in x.dims:\n",
    "        x=x.isel(group=0)\n",
    "    if len(x.dims)>0:\n",
    "        if x.dims[0]!='ens':\n",
    "            x=x.T  \n",
    "    \n",
    "    return x.compute()"
   ]
  },
  {
   "cell_type": "code",
   "execution_count": 10,
   "id": "5522d05b-e511-4312-b4da-cc1ce77ce7dd",
   "metadata": {},
   "outputs": [],
   "source": [
    "in_file = '/glade/derecho/scratch/linnia/ctsm5.3.0_transient_AD/run/ctsm5.3.0_transient_AD.clm2.h0.0021-01-01-00000.nc'\n",
    "ds = xr.open_dataset(in_file)"
   ]
  },
  {
   "cell_type": "code",
   "execution_count": 5,
   "id": "c67b36ff-8023-4037-a7f6-4714dede797f",
   "metadata": {},
   "outputs": [],
   "source": [
    "la_file = '/glade/u/home/djk2120/clm5ppe/pyth/sparsegrid_landarea.nc'\n",
    "la = xr.open_dataset(la_file).landarea  #km2"
   ]
  },
  {
   "cell_type": "code",
   "execution_count": 6,
   "id": "a2ffadd5-f42f-43bf-a882-eed8672beee0",
   "metadata": {},
   "outputs": [],
   "source": [
    "EcoC = gmean(ds.TOTECOSYSC,la)\n",
    "soilC1m = gmean(ds.TOTSOMC_1m,la)\n",
    "soilC = gmean(ds.TOTSOMC,la)"
   ]
  },
  {
   "cell_type": "code",
   "execution_count": 7,
   "id": "31790d01-c928-4db9-a953-92fe8cbce014",
   "metadata": {},
   "outputs": [
    {
     "data": {
      "image/png": "[encoded data removed]",
      "text/plain": [
       "<Figure size 864x288 with 3 Axes>"
      ]
     },
     "metadata": {
      "needs_background": "light"
     },
     "output_type": "display_data"
    }
   ],
   "source": [
    "plt.figure(figsize=(12,4))\n",
    "plt.subplot(1,3,1)\n",
    "EcoC.plot()\n",
    "plt.title('TOTECOSYSC')\n",
    "\n",
    "plt.subplot(1,3,2)\n",
    "soilC1m.plot()\n",
    "plt.title('TOTSOMC_1m')\n",
    "\n",
    "plt.subplot(1,3,3)\n",
    "soilC.plot()\n",
    "plt.title('TOTSOMC')\n",
    "\n",
    "plt.tight_layout()"
   ]
  },
  {
   "cell_type": "code",
   "execution_count": null,
   "id": "085181cc-04d2-44e7-8df0-3a2cd42cd6f3",
   "metadata": {},
   "outputs": [],
   "source": []
  }
 ],
 "metadata": {
  "kernelspec": {
   "display_name": "Python [conda env:miniconda3-ppe-py]",
   "language": "python",
   "name": "conda-env-miniconda3-ppe-py-py"
  },
  "language_info": {
   "codemirror_mode": {
    "name": "ipython",
    "version": 3
   },
   "file_extension": ".py",
   "mimetype": "text/x-python",
   "name": "python",
   "nbconvert_exporter": "python",
   "pygments_lexer": "ipython3",
   "version": "3.7.12"
  }
 },
 "nbformat": 4,
 "nbformat_minor": 5
}
