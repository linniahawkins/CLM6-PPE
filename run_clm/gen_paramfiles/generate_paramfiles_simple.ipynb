{
 "cells": [
  {
   "cell_type": "code",
   "execution_count": 45,
   "id": "2e3db57f-246e-4023-8aca-b5f8df76e071",
   "metadata": {},
   "outputs": [],
   "source": [
    "import numpy as np\n",
    "import xarray as xr\n",
    "import pandas as pd\n",
    "import os\n",
    "import glob"
   ]
  },
  {
   "cell_type": "code",
   "execution_count": 46,
   "id": "0f44b68b-a03a-44db-a859-3e9e112916a3",
   "metadata": {},
   "outputs": [],
   "source": [
    "# Load file with parameter ranges\n",
    "csv='ctsm6SPoaat_extras.csv'\n",
    "params = pd.read_csv(csv)"
   ]
  },
  {
   "cell_type": "code",
   "execution_count": 44,
   "id": "567de2fa-fecc-4a11-b3a1-0e89b231b7ed",
   "metadata": {},
   "outputs": [
    {
     "data": {
      "text/plain": [
       "\"'4'\""
      ]
     },
     "execution_count": 44,
     "metadata": {},
     "output_type": "execute_result"
    }
   ],
   "source": [
    "params['value'][0]"
   ]
  },
  {
   "cell_type": "code",
   "execution_count": 37,
   "id": "7a53e305-8895-4def-a50f-5e46a660b7bd",
   "metadata": {},
   "outputs": [],
   "source": [
    "out_dir = '/glade/work/linnia/CLM6-PPE/CLM6SP_OAAT/paramfiles/'"
   ]
  },
  {
   "cell_type": "code",
   "execution_count": 38,
   "id": "55fb5c47-6815-4a9a-af69-d0bd820c5692",
   "metadata": {},
   "outputs": [],
   "source": [
    "# default parameter file to start with\n",
    "basefile = '/glade/work/linnia/ctsm5.3.010/cime/scripts/transient/runtime_files/ctsm60_params.c241017.nc'\n",
    "def_paramfile = xr.open_dataset(basefile)"
   ]
  },
  {
   "cell_type": "code",
   "execution_count": 50,
   "id": "22db502e-2fcd-47d0-a4a7-ccea6fb05c07",
   "metadata": {},
   "outputs": [
    {
     "name": "stdout",
     "output_type": "stream",
     "text": [
      "hksat_sf 4.0\n",
      "bsw_sf 1.15\n"
     ]
    }
   ],
   "source": [
    "# Modify parameter settings and write new parameter values\n",
    "for ens in range(len(params)):\n",
    "    new_paramfile = def_paramfile.copy()\n",
    "    param = params['param'][ens]\n",
    "    values = params['value'][ens]\n",
    "    #float_list = [float(value) for value in values.split(',')]\n",
    "    float_list=[0]\n",
    "    if len(float_list)>1: # PFT indexed\n",
    "        \n",
    "        array = def_paramfile[param].values\n",
    "        array[:len(float_list)] = float_list[0:len(float_list)]\n",
    "        print(param,array)\n",
    "        if (param=='kmax'):\n",
    "            new_paramfile['kmax'].isel(segment=3).data = array\n",
    "        elif (param=='krmax'):\n",
    "            new_paramfile['kmax'].isel(segment=4).data = array\n",
    "        else:\n",
    "            new_paramfile[param].data = array\n",
    "    else:\n",
    "        print(param,values)\n",
    "        new_paramfile[param].data = values\n",
    "\n",
    "    new_paramfile.to_netcdf(out_dir+params['key'][ens]+'.nc')\n",
    "    "
   ]
  },
  {
   "cell_type": "code",
   "execution_count": 49,
   "id": "b12bd558-cd7d-4d54-a89f-b5d5ba466236",
   "metadata": {},
   "outputs": [
    {
     "data": {
      "text/plain": [
       "'/glade/work/linnia/CLM6-PPE/CLM6SP_OAAT/paramfiles/CLM6SPoaat0063.nc'"
      ]
     },
     "execution_count": 49,
     "metadata": {},
     "output_type": "execute_result"
    }
   ],
   "source": [
    "out_dir+params['key'][ens]+'.nc'"
   ]
  },
  {
   "cell_type": "code",
   "execution_count": null,
   "id": "06505513-aef4-413a-8078-e630d08de640",
   "metadata": {},
   "outputs": [],
   "source": []
  }
 ],
 "metadata": {
  "kernelspec": {
   "display_name": "Python [conda env:miniconda3-ppe-py]",
   "language": "python",
   "name": "conda-env-miniconda3-ppe-py-py"
  },
  "language_info": {
   "codemirror_mode": {
    "name": "ipython",
    "version": 3
   },
   "file_extension": ".py",
   "mimetype": "text/x-python",
   "name": "python",
   "nbconvert_exporter": "python",
   "pygments_lexer": "ipython3",
   "version": "3.7.12"
  }
 },
 "nbformat": 4,
 "nbformat_minor": 5
}
