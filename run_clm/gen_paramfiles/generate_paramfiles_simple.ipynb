{
 "cells": [
  {
   "cell_type": "code",
   "execution_count": 1,
   "id": "2e3db57f-246e-4023-8aca-b5f8df76e071",
   "metadata": {},
   "outputs": [],
   "source": [
    "import numpy as np\n",
    "import xarray as xr\n",
    "import pandas as pd\n",
    "import os\n",
    "import glob"
   ]
  },
  {
   "cell_type": "code",
   "execution_count": 2,
   "id": "0f44b68b-a03a-44db-a859-3e9e112916a3",
   "metadata": {},
   "outputs": [],
   "source": [
    "# Load file with parameter ranges\n",
    "csv='clm6_oaat_extras.txt'\n",
    "params = pd.read_csv(csv)"
   ]
  },
  {
   "cell_type": "code",
   "execution_count": 3,
   "id": "d7b9296a-4f4d-4d8c-a4cd-c685a2c03b26",
   "metadata": {},
   "outputs": [
    {
     "data": {
      "text/html": [
       "<div>\n",
       "<style scoped>\n",
       "    .dataframe tbody tr th:only-of-type {\n",
       "        vertical-align: middle;\n",
       "    }\n",
       "\n",
       "    .dataframe tbody tr th {\n",
       "        vertical-align: top;\n",
       "    }\n",
       "\n",
       "    .dataframe thead th {\n",
       "        text-align: right;\n",
       "    }\n",
       "</style>\n",
       "<table border=\"1\" class=\"dataframe\">\n",
       "  <thead>\n",
       "    <tr style=\"text-align: right;\">\n",
       "      <th></th>\n",
       "      <th>id</th>\n",
       "      <th>param</th>\n",
       "      <th>value</th>\n",
       "    </tr>\n",
       "  </thead>\n",
       "  <tbody>\n",
       "    <tr>\n",
       "      <th>0</th>\n",
       "      <td>oaat0193</td>\n",
       "      <td>hksat_sf</td>\n",
       "      <td>2.00</td>\n",
       "    </tr>\n",
       "    <tr>\n",
       "      <th>1</th>\n",
       "      <td>oaat0194</td>\n",
       "      <td>hksat_sf</td>\n",
       "      <td>3.00</td>\n",
       "    </tr>\n",
       "    <tr>\n",
       "      <th>2</th>\n",
       "      <td>oaat0195</td>\n",
       "      <td>hksat_sf</td>\n",
       "      <td>4.00</td>\n",
       "    </tr>\n",
       "    <tr>\n",
       "      <th>3</th>\n",
       "      <td>oaat0196</td>\n",
       "      <td>hksat_sf</td>\n",
       "      <td>5.00</td>\n",
       "    </tr>\n",
       "    <tr>\n",
       "      <th>4</th>\n",
       "      <td>oaat0197</td>\n",
       "      <td>bsw_sf</td>\n",
       "      <td>1.15</td>\n",
       "    </tr>\n",
       "  </tbody>\n",
       "</table>\n",
       "</div>"
      ],
      "text/plain": [
       "         id     param  value\n",
       "0  oaat0193  hksat_sf   2.00\n",
       "1  oaat0194  hksat_sf   3.00\n",
       "2  oaat0195  hksat_sf   4.00\n",
       "3  oaat0196  hksat_sf   5.00\n",
       "4  oaat0197    bsw_sf   1.15"
      ]
     },
     "execution_count": 3,
     "metadata": {},
     "output_type": "execute_result"
    }
   ],
   "source": [
    "params"
   ]
  },
  {
   "cell_type": "code",
   "execution_count": 4,
   "id": "7a53e305-8895-4def-a50f-5e46a660b7bd",
   "metadata": {},
   "outputs": [],
   "source": [
    "out_dir = '/glade/work/linnia/CLM6-PPE/CLM6_miniOAAT/paramfiles/'"
   ]
  },
  {
   "cell_type": "code",
   "execution_count": 5,
   "id": "55fb5c47-6815-4a9a-af69-d0bd820c5692",
   "metadata": {},
   "outputs": [],
   "source": [
    "# default parameter file to start with\n",
    "basefile = '/glade/work/linnia/ctsm5.3.0/cime/scripts/transient/runtime_files/ctsm60_params.c241007.nc'\n",
    "def_paramfile = xr.open_dataset(basefile)"
   ]
  },
  {
   "cell_type": "code",
   "execution_count": 6,
   "id": "22db502e-2fcd-47d0-a4a7-ccea6fb05c07",
   "metadata": {},
   "outputs": [
    {
     "name": "stdout",
     "output_type": "stream",
     "text": [
      "hksat_sf 2.0\n",
      "hksat_sf 3.0\n",
      "hksat_sf 4.0\n",
      "hksat_sf 5.0\n",
      "bsw_sf 1.15\n"
     ]
    }
   ],
   "source": [
    "for ens in range(len(params)):\n",
    "    new_paramfile = def_paramfile.copy()\n",
    "    param = params['param'][ens]\n",
    "    value = params['value'][ens]\n",
    "    print(param,value)\n",
    "    new_paramfile[param] = value\n",
    "\n",
    "    new_paramfile.to_netcdf(out_dir+params['id'][ens]+'.nc')\n",
    "    "
   ]
  },
  {
   "cell_type": "code",
   "execution_count": null,
   "id": "d8de0bdc-9bb9-40dd-a447-9731fee5e374",
   "metadata": {},
   "outputs": [],
   "source": []
  }
 ],
 "metadata": {
  "kernelspec": {
   "display_name": "Python [conda env:miniconda3-ppe-py]",
   "language": "python",
   "name": "conda-env-miniconda3-ppe-py-py"
  },
  "language_info": {
   "codemirror_mode": {
    "name": "ipython",
    "version": 3
   },
   "file_extension": ".py",
   "mimetype": "text/x-python",
   "name": "python",
   "nbconvert_exporter": "python",
   "pygments_lexer": "ipython3",
   "version": "3.7.12"
  }
 },
 "nbformat": 4,
 "nbformat_minor": 5
}
