{
 "cells": [
  {
   "cell_type": "code",
   "execution_count": 1,
   "id": "f50867e0-5ab8-4b9d-b9a8-32c92677d099",
   "metadata": {},
   "outputs": [],
   "source": [
    "import numpy as np\n",
    "import xarray as xr\n",
    "import os\n",
    "import pandas as pd\n",
    "import glob"
   ]
  },
  {
   "cell_type": "code",
   "execution_count": 2,
   "id": "99d6d68a-4510-4377-a457-cd2c194a8a67",
   "metadata": {},
   "outputs": [],
   "source": [
    "#import sys ; sys.path.append(\"../..\")\n",
    "from ppe_tools import *"
   ]
  },
  {
   "cell_type": "code",
   "execution_count": 3,
   "id": "af44572a-0e21-43ff-ba32-b3628a319d72",
   "metadata": {},
   "outputs": [],
   "source": [
    "# set directories\n",
    "exp_dir = '/glade/work/linnia/CLM6-PPE/tmp/'"
   ]
  },
  {
   "cell_type": "markdown",
   "id": "6e4d19f2-6f13-4f5c-bfc3-cda632362dfa",
   "metadata": {},
   "source": [
    "### 1. Define Parameters and Ranges"
   ]
  },
  {
   "cell_type": "code",
   "execution_count": 10,
   "id": "9c639bd1-83c2-4bbb-b508-d669adfca37b",
   "metadata": {},
   "outputs": [],
   "source": [
    "# file with parameter ranges\n",
    "csv='ctsm6sp_lhc_paramranges_11192024.csv'"
   ]
  },
  {
   "cell_type": "code",
   "execution_count": 12,
   "id": "915b9226-20e4-42bb-9665-4d0732607b20",
   "metadata": {},
   "outputs": [
    {
     "data": {
      "text/plain": [
       "array(['taulnir', 'taulvis', 'tausnir', 'tausvis', 'rholnir', 'rholvis',\n",
       "       'rhosnir', 'rhosvis', 'xl', 'displar', 'dleaf', 'z0mr', 'csoilc',\n",
       "       'cv', 'a_coef', 'a_exp', 'zlnd', 'zsno', 'd_max',\n",
       "       'frac_sat_soil_dsl_init', 'lai_dl', 'z_dl', 'zetamaxstable',\n",
       "       'wind_min', 'tkd_sand', 'tkd_clay', 'tkd_om', 'tkm_om', 'pd',\n",
       "       'csol_om', 'csol_sand', 'csol_clay', 'bsw_sf', 'hksat_sf',\n",
       "       'sucsat_sf', 'watsat_sf', 'sand_pf', 'clay_pf', 'baseflow_scalar',\n",
       "       'maximum_leaf_wetted_fraction', 'interception_fraction',\n",
       "       'aq_sp_yield_min', 'fff', 'liq_canopy_storage_scalar',\n",
       "       'snow_canopy_storage_scalar', 'perched_baseflow_scalar', 'e_ice',\n",
       "       'n_baseflow', 'n_melt_coef', 'accum_factor', 'eta0_anderson',\n",
       "       'eta0_vionnet', 'drift_gs', 'ssi', 'wimp',\n",
       "       'upplim_destruct_metamorph', 'wind_snowcompact_fact', 'rho_max',\n",
       "       'tau_ref', 'snowcan_unload_wind_fact', 'snowcan_unload_temp_fact',\n",
       "       'xdrdt', 'snw_rds_refrz', 'scvng_fct_mlt_sf', 'ceta',\n",
       "       'medlynslope', 'medlynintercept', 'fnps', 'theta_psii', 'theta_ip',\n",
       "       'theta_cj', 'kc25_coef', 'ko25_coef', 'cp25_yr2000', 'fnr',\n",
       "       'act25', 'tpu25ratio', 'kp25ratio', 'lmrse', 'slatop', 'jmaxb0',\n",
       "       'jmaxb1', 'wc2wjb0', 'enzyme_turnover_daily', 'relhExp', 'minrelh',\n",
       "       'luna_theta_cj', 'kmax', 'krmax', 'psi50', 'ck', 'rootprof_beta',\n",
       "       'dbh', 'fbw', 'nstem', 'rstem', 'wood_density', 'grperc', 'br_mr',\n",
       "       'lmr_intercept_atkin', 'br_root', 'leaf_mr_vcm', 'FUN_fracfixers',\n",
       "       'fun_cn_flex_a', 'fun_cn_flex_b', 'fun_cn_flex_c', 'kc_nonmyc',\n",
       "       'kn_nonmyc', 'akc_active', 'akn_active', 'ekc_active',\n",
       "       'ekn_active', 'froot_leaf', 'stem_leaf', 'croot_stem', 'flivewd',\n",
       "       'frootcn', 'frootcn_max', 'frootcn_min', 'leafcn', 'leafcn_max',\n",
       "       'leafcn_min', 'leaf_long', 'lf_fcel', 'lf_flab', 'lf_flig',\n",
       "       'fr_fcel', 'fr_flab', 'fr_flig', 'lwtop_ann', 'ndays_off',\n",
       "       'ndays_on', 'tau_cwd', 'bgc_tau_l1', 'bgc_tau_l2_l3', 'bgc_tau_s1',\n",
       "       'bgc_tau_s2', 'bgc_tau_s3', 'q10_mr', 'q10_hr', 'froz_q10',\n",
       "       'minpsi_hr', 'maxpsi_hr', 'rf_cwdl2', 'bgc_rf_cwdl3',\n",
       "       'bgc_rf_l1s1', 'bgc_rf_l2s1', 'bgc_rf_l3s2', 'bgc_rf_s2s1',\n",
       "       'bgc_rf_s2s3', 'bgc_rf_s3s1', 'bgc_cn_s1', 'bgc_cn_s2',\n",
       "       'bgc_cn_s3', 'decomp_depth_efolding', 'max_altdepth_cryoturbation',\n",
       "       'max_altmultiplier_cryoturb', 'cryoturb_diffusion_k',\n",
       "       'bgc_cwd_fcel', 'cwd_flig', 'som_diffus', 'k_nitr_max_perday',\n",
       "       'denitrif_respiration_coefficient',\n",
       "       'denitrif_respiration_exponent',\n",
       "       'denitrif_nitrateconc_coefficient',\n",
       "       'denitrif_nitrateconc_exponent', 'freelivfix_slope_wet',\n",
       "       'freelivfix_intercept', 'r_mort', 'cli_scale', 'lfuel', 'ufuel',\n",
       "       'rh_low', 'rh_hgh', 'pot_hmn_ign_counts_alpha',\n",
       "       'occur_hi_gdp_tree', 'cmb_cmplt_fact_litter', 'cmb_cmplt_fact_cwd',\n",
       "       'cropfire_a1', 'boreal_peatfire_c', 'non_boreal_peatfire_c',\n",
       "       'fsr_pft', 'fd_pft', 'prh30', 'ignition_efficiency', 'cc_dstem',\n",
       "       'cc_leaf', 'cc_lstem', 'cc_other', 'fm_droot', 'fm_dstem',\n",
       "       'fm_leaf', 'fm_lroot', 'fm_lstem', 'fm_other', 'fm_root',\n",
       "       'vcmaxha', 'jmaxha', 'tpuha', 'lmrha', 'kcha', 'koha', 'cpha',\n",
       "       'vcmaxhd', 'jmaxhd', 'tpuhd', 'lmrhd', 'vcmaxse_sf', 'jmaxse_sf',\n",
       "       'tpuse_sf', 'jmax25top_sf'], dtype=object)"
      ]
     },
     "execution_count": 12,
     "metadata": {},
     "output_type": "execute_result"
    }
   ],
   "source": [
    "df = pd.read_csv(csv)\n",
    "params=df['param'].values\n",
    "params"
   ]
  },
  {
   "cell_type": "code",
   "execution_count": 13,
   "id": "7390a3e1-733e-4176-bde5-df9a0d5061b5",
   "metadata": {},
   "outputs": [],
   "source": [
    "kcns=['kc_nonmyc',\n",
    "        'kn_nonmyc',\n",
    "        'akc_active',\n",
    "        'akn_active',\n",
    "        'ekc_active',\n",
    "        'ekn_active']"
   ]
  },
  {
   "cell_type": "markdown",
   "id": "eb7c9a12-b3c6-46d0-a57c-07d8731b8bc4",
   "metadata": {},
   "source": [
    "### 2. Build Parameter Dictionary"
   ]
  },
  {
   "cell_type": "code",
   "execution_count": 14,
   "id": "f6b7d30b-5bf0-48cb-adc6-e37da72ffbd9",
   "metadata": {},
   "outputs": [],
   "source": [
    "### we should maybe make this a function?\n",
    "lhcs = {}\n",
    "for p in params:\n",
    "    ix       = df['param']==p\n",
    "    minval   = df['min'][ix].values[0]\n",
    "    maxval   = df['max'][ix].values[0]\n",
    "    pftmin   = df['pft_mins'][ix].values[0]\n",
    "    pftmax   = df['pft_maxs'][ix].values[0]\n",
    "    thisloc  = df['loc'][ix].values[0]\n",
    "    if p=='KCN':\n",
    "        flag='KCN'\n",
    "    else:\n",
    "        flag=''\n",
    "    \n",
    "    needs_pft = (minval=='pft')\n",
    "    if needs_pft:\n",
    "        thismin = np.fromstring(pftmin, dtype='float', sep=',')\n",
    "    elif 'percent' in minval:\n",
    "        thismin = minval\n",
    "    else:\n",
    "        thismin = np.array(float(minval))\n",
    "\n",
    "    needs_pft = (maxval=='pft')\n",
    "    if needs_pft:\n",
    "        thismax = np.fromstring(pftmax, dtype='float', sep=',')\n",
    "    elif 'percent' in maxval:\n",
    "        thismax = maxval\n",
    "    else:\n",
    "        thismax = np.array(float(maxval))\n",
    "\n",
    "    if p!='KCN':\n",
    "        lhcs[p]={'min':thismin,'max':thismax,'loc':thisloc,'flagged':[]}\n",
    "    else:\n",
    "        flagged={}\n",
    "        for kcn in kcns:\n",
    "            flagged[kcn]={'min':thismin,'max':thismax,'loc':thisloc}\n",
    "        lhcs[p]={'min':[],'max':[],'loc':thisloc,'flagged':flagged}"
   ]
  },
  {
   "cell_type": "markdown",
   "id": "7c9970d6-e75b-4be9-99fd-7e270d775ab3",
   "metadata": {},
   "source": [
    "### 3. Define Ensemble"
   ]
  },
  {
   "cell_type": "markdown",
   "id": "15e3bcf9-075f-487b-9b83-27aae3299a52",
   "metadata": {},
   "source": [
    "##### a. If you already know the parameter sets to run, read them in here\n",
    "##### b. If you would like to generate a new Latin-Hypercube sample, skip to step 4"
   ]
  },
  {
   "cell_type": "code",
   "execution_count": 10,
   "id": "7e05dbd7-7816-4e9d-943c-1ccdbbabaeff",
   "metadata": {},
   "outputs": [],
   "source": [
    "# specify where your samples exist\n",
    "# make sure that they are in the same order as the params in lhcs above\n",
    "psets = pd.read_csv('~/clm5ppe/pyth/exp1_EmBE/exp1_EmBE_BiomeSpecific_psets.csv',index_col=0)\n",
    "nens = 24 # how many ensemble members do you have ? "
   ]
  },
  {
   "cell_type": "code",
   "execution_count": 11,
   "id": "9319ca1f-74fa-4730-b64c-a7da92e9398a",
   "metadata": {},
   "outputs": [],
   "source": [
    "def get_p(p,i):\n",
    "    return psets.iloc[i].loc[p]"
   ]
  },
  {
   "cell_type": "code",
   "execution_count": 12,
   "id": "6c1e40f1-8740-471c-a2cc-f77adc4da685",
   "metadata": {},
   "outputs": [],
   "source": [
    "exp1=[[get_p(p,i) for p in lhcs] for i in range(nens)]"
   ]
  },
  {
   "cell_type": "code",
   "execution_count": 13,
   "id": "19455620-c239-4360-b5d0-10e252dcb1c2",
   "metadata": {},
   "outputs": [
    {
     "data": {
      "text/plain": [
       "(24, 32)"
      ]
     },
     "execution_count": 13,
     "metadata": {},
     "output_type": "execute_result"
    }
   ],
   "source": [
    "#Rows are ensemble members and columns are parameters (scale factors)\n",
    "np.shape(exp1)"
   ]
  },
  {
   "cell_type": "markdown",
   "id": "7d600ad8-4f1b-46f5-bf85-0684ec1c8378",
   "metadata": {},
   "source": [
    "### 4. Create the Ensemble Object"
   ]
  },
  {
   "cell_type": "code",
   "execution_count": 16,
   "id": "04571686-bafb-48d1-8014-eecb4fa0eaa4",
   "metadata": {},
   "outputs": [],
   "source": [
    "# 4a. instantiate the Ensemble object\n",
    "#basefile = '/glade/campaign/asp/djk2120/PPEn11/paramfiles/OAAT0000.nc'\n",
    "basefile = '/glade/work/linnia/ctsm5.3.010/cime/scripts/transient/runtime_files/ctsm60_params.c241017.nc'\n",
    "pdir = exp_dir + 'paramfiles/'\n",
    "ndir = exp_dir + 'namelist_mods/'\n",
    "x    = Ensemble(basefile,pdir,ndir)\n",
    "\n",
    "# 4b. add the new ensemble members\n",
    "prefix = 'exp1'   #make your own prefix\n",
    "nextnum=1\n",
    "n_samples=40      # set the number of ensemble members to generate\n",
    "x.add_lhcs(lhcs,prefix,nextnum,n_samples,lhc=None) # for new LHC sample set lhc=None"
   ]
  },
  {
   "cell_type": "markdown",
   "id": "a2561ffd-4bda-4ecb-ab02-c19fa823b59e",
   "metadata": {},
   "source": [
    "### 5. Write the param_files"
   ]
  },
  {
   "cell_type": "code",
   "execution_count": 17,
   "id": "d8c7d05f-7bf4-4490-9a68-f2c84c437c3a",
   "metadata": {},
   "outputs": [],
   "source": [
    "paramset_file = exp_dir + 'psets_tmp.txt'\n",
    "x.write(lhcfile=paramset_file)"
   ]
  },
  {
   "cell_type": "code",
   "execution_count": 18,
   "id": "116c0a57",
   "metadata": {},
   "outputs": [
    {
     "name": "stdout",
     "output_type": "stream",
     "text": [
      "  File: /glade/work/linnia/CLM6-PPE/tmp/psets_tmp.txt\n",
      "  Size: 165354    \tBlocks: 352        IO Block: 8388608 regular file\n",
      "Device: 41h/65d\tInode: 219527543   Links: 1\n",
      "Access: (0644/-rw-r--r--)  Uid: (35240/  linnia)   Gid: ( 1000/    ncar)\n",
      "Access: 2024-11-19 11:56:13.282776000 -0700\n",
      "Modify: 2024-11-19 11:56:13.297637663 -0700\n",
      "Change: 2024-11-19 11:56:13.297637663 -0700\n",
      " Birth: -\n"
     ]
    }
   ],
   "source": [
    "%%bash -s \"$paramset_file\"\n",
    "# Check that the file was created\n",
    "paramset_file=$1 \n",
    "\n",
    "stat $paramset_file"
   ]
  },
  {
   "cell_type": "code",
   "execution_count": null,
   "id": "83e54a7c-b37a-4009-8a20-27db3a2b4241",
   "metadata": {},
   "outputs": [],
   "source": []
  }
 ],
 "metadata": {
  "kernelspec": {
   "display_name": "Python [conda env:miniconda3-ppe-py]",
   "language": "python",
   "name": "conda-env-miniconda3-ppe-py-py"
  },
  "language_info": {
   "codemirror_mode": {
    "name": "ipython",
    "version": 3
   },
   "file_extension": ".py",
   "mimetype": "text/x-python",
   "name": "python",
   "nbconvert_exporter": "python",
   "pygments_lexer": "ipython3",
   "version": "3.7.12"
  }
 },
 "nbformat": 4,
 "nbformat_minor": 5
}
