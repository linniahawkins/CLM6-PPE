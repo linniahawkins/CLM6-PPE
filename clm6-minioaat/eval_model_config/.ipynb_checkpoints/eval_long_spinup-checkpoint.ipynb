{
 "cells": [
  {
   "cell_type": "code",
   "execution_count": 1,
   "id": "9b318695-e8c4-4960-9b33-4314a5490148",
   "metadata": {},
   "outputs": [],
   "source": [
    "import numpy as np\n",
    "import pandas as pd\n",
    "import xarray as xr\n",
    "import glob\n",
    "import matplotlib\n",
    "import matplotlib.pyplot as plt\n",
    "from matplotlib import cm"
   ]
  },
  {
   "cell_type": "code",
   "execution_count": 2,
   "id": "29282f9a-1da1-4941-b7a7-189e2b0f0fa4",
   "metadata": {},
   "outputs": [],
   "source": [
    "import sys ; sys.path.append(\"./utils\")\n",
    "from utils.pyfunctions import *"
   ]
  },
  {
   "cell_type": "code",
   "execution_count": 3,
   "id": "e820d3ab-c834-48da-a401-90f9575a86db",
   "metadata": {},
   "outputs": [
    {
     "name": "stderr",
     "output_type": "stream",
     "text": [
      "/glade/u/home/linnia/miniconda3/envs/ppe-py/lib/python3.7/site-packages/dask_jobqueue/core.py:20: FutureWarning: tmpfile is deprecated and will be removed in a future release. Please use dask.utils.tmpfile instead.\n",
      "  from distributed.utils import tmpfile\n",
      "/glade/u/home/linnia/miniconda3/envs/ppe-py/lib/python3.7/site-packages/distributed/node.py:182: UserWarning: Port 8787 is already in use.\n",
      "Perhaps you already have a cluster running?\n",
      "Hosting the HTTP server on port 33725 instead\n",
      "  f\"Port {expected} is already in use.\\n\"\n"
     ]
    }
   ],
   "source": [
    "# Setup your PBSCluster\n",
    "import dask\n",
    "from dask_jobqueue import PBSCluster\n",
    "from dask.distributed import Client\n",
    "ncores=1\n",
    "nmem='10GB'\n",
    "cluster = PBSCluster(\n",
    "    cores=ncores, # The number of cores you want\n",
    "    memory=nmem, # Amount of memory\n",
    "    processes=1, # How many processes\n",
    "    queue='casper', # The type of queue to utilize (/glade/u/apps/dav/opt/usr/bin/execcasper)\n",
    "    local_directory='$TMPDIR', # Use your local directory\n",
    "    resource_spec='select=1:ncpus='+str(ncores)+':mem='+nmem, # Specify resources\n",
    "    project='P93300641', # Input your project ID here\n",
    "    walltime='03:00:00', # Amount of wall time\n",
    "    #interface='ib0', # Interface to use\n",
    ")\n",
    "\n",
    "# Scale up\n",
    "cluster.scale(10)\n",
    "\n",
    "# Setup your client\n",
    "client = Client(cluster)"
   ]
  },
  {
   "cell_type": "code",
   "execution_count": 4,
   "id": "9d804689-ee20-4eb2-91e5-0aabf8963d40",
   "metadata": {},
   "outputs": [],
   "source": [
    "la=xr.open_dataset('./utils/sparsegrid_landarea.nc').landarea"
   ]
  },
  {
   "cell_type": "code",
   "execution_count": 5,
   "id": "187cd9ad-c103-4888-9948-f5ae238a3f35",
   "metadata": {},
   "outputs": [],
   "source": [
    "def preprocess(ds):\n",
    "    dvs=['TLAI','TWS','GPP','NPP','TOTVEGC','TOTSOMC','TOTECOSYSC']\n",
    "    return ds[dvs]"
   ]
  },
  {
   "cell_type": "code",
   "execution_count": 6,
   "id": "602004c1-eab3-40d3-b6ff-369e758ded9e",
   "metadata": {},
   "outputs": [],
   "source": [
    "def readin_postSASU(path,preprocess,startyear):\n",
    "    files =glob.glob(path+'*.h0.*')\n",
    "    f=sorted(files)\n",
    "\n",
    "    ds=xr.open_mfdataset(f,combine='nested',concat_dim=['time'],\n",
    "                     preprocess=preprocess,decode_times=False,parallel=True)\n",
    "    ds['time']=xr.cftime_range(str(startyear),periods=len(ds.time),freq='MS',calendar='noleap')\n",
    "    return ds"
   ]
  },
  {
   "cell_type": "code",
   "execution_count": 21,
   "id": "956ffe3c-211b-4da8-be32-255e8544bf31",
   "metadata": {},
   "outputs": [],
   "source": [
    "# readin double spinup postSASU\n",
    "path = '/glade/derecho/scratch/linnia/ctsm5.3.0_transient_postSASU_test0010/run/' # leafcn max\n",
    "#path = '/glade/derecho/scratch/linnia/ctsm5.3.0_transient_postSASU_test0011/run/' # xl max\n",
    "ds_double = readin_postSASU(path,preprocess,1770)"
   ]
  },
  {
   "cell_type": "code",
   "execution_count": 22,
   "id": "b8d8a726-d32d-431a-95ab-391867dfcda9",
   "metadata": {},
   "outputs": [],
   "source": [
    "# readin normal (single) spinup postSASU\n",
    "path = '/glade/derecho/scratch/linnia/ctsm5.3.0_transient_postSASU_oaat0053/run/' # leafcn max\n",
    "#path = '/glade/derecho/scratch/linnia/ctsm5.3.0_transient_postSASU_oaat0172/run/' # xl max\n",
    "ds_single = readin_postSASU(path,preprocess,1810)"
   ]
  },
  {
   "cell_type": "code",
   "execution_count": 18,
   "id": "7aa2436d-0c57-4866-a86e-3a86071ad5cd",
   "metadata": {},
   "outputs": [],
   "source": [
    "# readin normal (single) spinup postSASU for default parameter set\n",
    "path = '/glade/derecho/scratch/linnia/ctsm5.3.0_transient_postSASU_oaat0101/run/' # zsno\n",
    "ds_default = readin_postSASU(path,preprocess,1810)"
   ]
  },
  {
   "cell_type": "code",
   "execution_count": 23,
   "id": "f2465912-fef8-4299-98e2-e7e3e42df6e5",
   "metadata": {},
   "outputs": [
    {
     "data": {
      "text/plain": [
       "[<matplotlib.lines.Line2D at 0x14d35a423750>]"
      ]
     },
     "execution_count": 23,
     "metadata": {},
     "output_type": "execute_result"
    },
    {
     "data": {
      "image/png": "[encoded data removed]",
      "text/plain": [
       "<Figure size 432x288 with 1 Axes>"
      ]
     },
     "metadata": {
      "needs_background": "light"
     },
     "output_type": "display_data"
    }
   ],
   "source": [
    "gmean(amean(ds_double['TLAI']),la).plot()\n",
    "gmean(amean(ds_single['TLAI']),la).plot()"
   ]
  },
  {
   "cell_type": "code",
   "execution_count": 24,
   "id": "53653e42-c379-4f30-a2e9-df602b2fdc6c",
   "metadata": {},
   "outputs": [],
   "source": [
    "### Calc delta between met recycling iterations\n",
    "dvs=['TLAI','TWS','GPP','NPP','TOTVEGC','TOTSOMC','TOTECOSYSC']\n",
    "cfs = [1,1,60*60*24*365*1e-9*la.sum().values,60*60*24*365*1e-9*la.sum().values,1e-9*la.sum().values,1e-9*la.sum().values,1e-9*la.sum().values]\n",
    "data = []\n",
    "for i,var in enumerate(dvs):\n",
    "\n",
    "    da = cfs[i]*gmean(amean(ds_single[var]),la)\n",
    "    #da = cfs[i]*gmean(amean(ds_default[var]),la)\n",
    "    delta1=(da-da.shift(year=20)).isel(year=range(30,40)).mean(dim='year')/20\n",
    "\n",
    "    da = cfs[i]*gmean(amean(ds_double[var]),la).isel(year=range(40,80))\n",
    "    delta2=(da-da.shift(year=20)).isel(year=range(30,40)).mean(dim='year')/20\n",
    "\n",
    "    data.append([delta1.values, delta2.values])\n",
    "\n",
    "pSASU_delta = pd.DataFrame(data,index=dvs,columns=['Single spinup','Double spinup'])"
   ]
  },
  {
   "cell_type": "code",
   "execution_count": 25,
   "id": "4c3d643e-585b-4a51-8b68-16250486a78b",
   "metadata": {},
   "outputs": [
    {
     "data": {
      "text/html": [
       "<div>\n",
       "<style scoped>\n",
       "    .dataframe tbody tr th:only-of-type {\n",
       "        vertical-align: middle;\n",
       "    }\n",
       "\n",
       "    .dataframe tbody tr th {\n",
       "        vertical-align: top;\n",
       "    }\n",
       "\n",
       "    .dataframe thead th {\n",
       "        text-align: right;\n",
       "    }\n",
       "</style>\n",
       "<table border=\"1\" class=\"dataframe\">\n",
       "  <thead>\n",
       "    <tr style=\"text-align: right;\">\n",
       "      <th></th>\n",
       "      <th>Single spinup</th>\n",
       "      <th>Double spinup</th>\n",
       "    </tr>\n",
       "  </thead>\n",
       "  <tbody>\n",
       "    <tr>\n",
       "      <th>TLAI</th>\n",
       "      <td>-0.0003579279466408203</td>\n",
       "      <td>-4.179827222098531e-05</td>\n",
       "    </tr>\n",
       "    <tr>\n",
       "      <th>TWS</th>\n",
       "      <td>0.16147700695426692</td>\n",
       "      <td>0.05279480881887594</td>\n",
       "    </tr>\n",
       "    <tr>\n",
       "      <th>GPP</th>\n",
       "      <td>-0.024699271614531285</td>\n",
       "      <td>-0.003241896540696913</td>\n",
       "    </tr>\n",
       "    <tr>\n",
       "      <th>NPP</th>\n",
       "      <td>-0.011989647423469769</td>\n",
       "      <td>-0.0017682593202574637</td>\n",
       "    </tr>\n",
       "    <tr>\n",
       "      <th>TOTVEGC</th>\n",
       "      <td>-0.038358235725382314</td>\n",
       "      <td>-0.025993704238526334</td>\n",
       "    </tr>\n",
       "    <tr>\n",
       "      <th>TOTSOMC</th>\n",
       "      <td>-0.1060307679089874</td>\n",
       "      <td>-0.030700135391575713</td>\n",
       "    </tr>\n",
       "    <tr>\n",
       "      <th>TOTECOSYSC</th>\n",
       "      <td>-0.20500904880868234</td>\n",
       "      <td>-0.0681227150659538</td>\n",
       "    </tr>\n",
       "  </tbody>\n",
       "</table>\n",
       "</div>"
      ],
      "text/plain": [
       "                     Single spinup           Double spinup\n",
       "TLAI        -0.0003579279466408203  -4.179827222098531e-05\n",
       "TWS            0.16147700695426692     0.05279480881887594\n",
       "GPP          -0.024699271614531285   -0.003241896540696913\n",
       "NPP          -0.011989647423469769  -0.0017682593202574637\n",
       "TOTVEGC      -0.038358235725382314   -0.025993704238526334\n",
       "TOTSOMC        -0.1060307679089874   -0.030700135391575713\n",
       "TOTECOSYSC    -0.20500904880868234     -0.0681227150659538"
      ]
     },
     "execution_count": 25,
     "metadata": {},
     "output_type": "execute_result"
    }
   ],
   "source": [
    "pSASU_delta"
   ]
  },
  {
   "cell_type": "markdown",
   "id": "a060259e-a1dc-44af-8b93-a98efba3ab0e",
   "metadata": {},
   "source": [
    "### fraction of land area in disequilibrium"
   ]
  },
  {
   "cell_type": "code",
   "execution_count": 159,
   "id": "a0cb70a7-1e66-44b3-ba90-00e393a078e3",
   "metadata": {},
   "outputs": [
    {
     "data": {
      "image/png": "[encoded data removed]",
      "text/plain": [
       "<Figure size 864x288 with 3 Axes>"
      ]
     },
     "metadata": {
      "needs_background": "light"
     },
     "output_type": "display_data"
    }
   ],
   "source": [
    "# single spinup\n",
    "dvs = ['TOTECOSYSC','TOTVEGC','GPP']\n",
    "cfs = [1,1,24*60*60*365]\n",
    "\n",
    "plt.figure(figsize=(12,4))\n",
    "for i,var in enumerate(dvs):\n",
    "    da=cfs[i]*amean(ds_single[var])\n",
    "    dx=abs(da-da.shift(year=20)).isel(year=range(20,40))\n",
    "    diseq=(la*(dx>20)).sum(dim='gridcell')/la.sum()\n",
    "    \n",
    "    plt.subplot(1,3,i+1)\n",
    "    (100*diseq).plot.line('.')\n",
    "    plt.ylim(bottom=0)\n",
    "    plt.ylabel('Disequilibrium (%)')\n",
    "    plt.title('|$\\Delta$'+var+'|<1gC/m2/yr');\n",
    "    \n",
    "plt.tight_layout()\n",
    "plt.savefig('./figs/Spatial_disequilibrium_1Xspinup_default.png')"
   ]
  },
  {
   "cell_type": "code",
   "execution_count": 26,
   "id": "f5203643-bf92-4d05-a29d-71ce29993098",
   "metadata": {},
   "outputs": [
    {
     "data": {
      "image/png": "[encoded data removed]",
      "text/plain": [
       "<Figure size 864x288 with 3 Axes>"
      ]
     },
     "metadata": {
      "needs_background": "light"
     },
     "output_type": "display_data"
    }
   ],
   "source": [
    "# Double spinup\n",
    "dvs = ['TOTECOSYSC','TOTVEGC','GPP']\n",
    "cfs = [1,1,24*60*60*365]\n",
    "\n",
    "plt.figure(figsize=(12,4))\n",
    "for i,var in enumerate(dvs):\n",
    "    #da=cfs[i]*amean(ds_double[var]) \n",
    "    da=cfs[i]*amean(ds_double[var]).isel(year=range(40,80))\n",
    "    dx=abs(da-da.shift(year=20)).isel(year=range(20,40))\n",
    "    diseq=(la*(dx>20)).sum(dim='gridcell')/la.sum()\n",
    "    \n",
    "    plt.subplot(1,3,i+1)\n",
    "    (100*diseq).plot.line('.')\n",
    "    plt.ylim(bottom=0)\n",
    "    plt.ylabel('Disequilibrium (%)')\n",
    "    plt.title('|$\\Delta$'+var+'|<1gC/m2/yr');\n",
    "    \n",
    "plt.tight_layout()\n",
    "plt.savefig('./figs/Spatial_disequilibrium_2Xspinup_xl_max.png')"
   ]
  },
  {
   "cell_type": "code",
   "execution_count": null,
   "id": "d57c6263-2989-4b27-b3e9-5bf3aa7e2ab0",
   "metadata": {},
   "outputs": [],
   "source": []
  }
 ],
 "metadata": {
  "kernelspec": {
   "display_name": "Python [conda env:miniconda3-ppe-py]",
   "language": "python",
   "name": "conda-env-miniconda3-ppe-py-py"
  },
  "language_info": {
   "codemirror_mode": {
    "name": "ipython",
    "version": 3
   },
   "file_extension": ".py",
   "mimetype": "text/x-python",
   "name": "python",
   "nbconvert_exporter": "python",
   "pygments_lexer": "ipython3",
   "version": "3.7.12"
  }
 },
 "nbformat": 4,
 "nbformat_minor": 5
}
