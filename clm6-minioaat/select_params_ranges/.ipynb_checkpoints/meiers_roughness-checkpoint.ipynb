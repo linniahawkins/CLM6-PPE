{
 "cells": [
  {
   "cell_type": "code",
   "execution_count": 1,
   "id": "47a15b52-7e1c-45db-9e3f-4ed25244a452",
   "metadata": {},
   "outputs": [],
   "source": [
    "import numpy as np\n",
    "import matplotlib.pyplot as plt\n",
    "from matplotlib import cm"
   ]
  },
  {
   "cell_type": "code",
   "execution_count": null,
   "id": "3a00c8f4-95bd-4dbd-a198-c0c65b9190d3",
   "metadata": {},
   "outputs": [],
   "source": [
    "# Constants\n",
    "z0 = \n",
    "htop = \n",
    "PSIh =  # roughness sublayer influence function\n",
    "lamb =  # roughness density"
   ]
  },
  {
   "cell_type": "code",
   "execution_count": null,
   "id": "87d1ca59-730e-4173-8c74-19d28bb6b2dc",
   "metadata": {},
   "outputs": [],
   "source": [
    "# parameters\n",
    "cw = # constant larger than 1\n",
    "Cs = \n",
    "Cr = \n"
   ]
  },
  {
   "cell_type": "code",
   "execution_count": null,
   "id": "31bd2ffc-d71d-4cc6-800e-c587955db9d3",
   "metadata": {},
   "outputs": [],
   "source": [
    "cx = z0v_cw # CanopyFluxesMod.F90"
   ]
  },
  {
   "cell_type": "code",
   "execution_count": null,
   "id": "08679897-094f-43d1-9409-74688fafd8ee",
   "metadata": {},
   "outputs": [],
   "source": [
    "PSIh = np.log(cw) - 1 + (1/cw) # (8)"
   ]
  },
  {
   "cell_type": "code",
   "execution_count": null,
   "id": "b77846db-d2eb-4a5d-a0f9-cb392c4b7270",
   "metadata": {},
   "outputs": [],
   "source": [
    "Uh/ustar = (Cs + lamb*Cr)**(-0.5) * np.exp((np.min(lamb,lambmax)*c*Uh/ustar)/2)  # (9)"
   ]
  },
  {
   "cell_type": "code",
   "execution_count": null,
   "id": "f63746d6-fbcd-46b8-9bbe-19f7500ea257",
   "metadata": {},
   "outputs": [],
   "source": [
    "zh = ((htop - d)/htop)*np.exp(PSIh - k*Uh/ustar)  # (7)"
   ]
  },
  {
   "cell_type": "code",
   "execution_count": null,
   "id": "b0507d50-63ff-458b-9d79-a7bad159e4ff",
   "metadata": {},
   "outputs": [],
   "source": []
  },
  {
   "cell_type": "code",
   "execution_count": 2,
   "id": "e7784604-0c9a-4e65-ac7f-01498eda5edb",
   "metadata": {},
   "outputs": [],
   "source": [
    "cd1_param = 7.5 # constant in Ra92\n",
    "htop =  3 # canopy height (m)\n",
    "vkc = 0.4 # kappa in paper, von Karman constant\n",
    "\n",
    "z0v_LAImax = 4.55\n",
    "# needleleaf evergreen forest\n",
    "z0v_Cs = 0.003 # Drag coefficient of the ground in the absence of vegetation ()\n",
    "z0v_Cr = 0.05 # drag coefficient of an isolated roughness element ()\n",
    "z0v_c =  0.09 # empirical constant in Ra92 ()\n",
    "z0v_cw = 9 # empirical constant >1\n"
   ]
  },
  {
   "cell_type": "code",
   "execution_count": null,
   "id": "fbc6fd13-3a35-49ec-9be4-a0f111e86948",
   "metadata": {},
   "outputs": [],
   "source": [
    "# displa = d is the displacement height estimated as two-thirds of htop (m)\n",
    "# lt = lambda λ is set to half the total single-sided area of all canopy elements, here VAI"
   ]
  },
  {
   "cell_type": "code",
   "execution_count": 22,
   "id": "4556e259-a05c-4f55-9ef8-99999b42d72e",
   "metadata": {},
   "outputs": [],
   "source": [
    "# Computation\n",
    "z0mv_array = []\n",
    "for vai in np.arange(0.1,6.5,0.025):\n",
    "    lt = np.maximum(1e-5, vai)\n",
    "    displa = htop * (1.0 - (1.0 - np.exp(-(cd1_param * lt)**0.5)) / (cd1_param * lt)**0.5)\n",
    "    \n",
    "    lt = np.minimum(lt, z0v_LAImax)\n",
    "    delt = 2.0\n",
    "    \n",
    "    # Initial U_ustar computation\n",
    "    U_ustar_ini = ((z0v_Cs + z0v_Cr * lt * 0.5)**(-0.5) * z0v_c * lt * 0.25)\n",
    "    U_ustar = U_ustar_ini\n",
    "    \n",
    "    # Iterative computation of U_ustar\n",
    "    while delt > 1e-4:\n",
    "        U_ustar_prev = U_ustar\n",
    "        U_ustar = U_ustar_ini * np.exp(U_ustar_prev)\n",
    "        delt = abs(U_ustar - U_ustar_prev)\n",
    "    \n",
    "    # Final U_ustar adjustment\n",
    "    U_ustar = 4.0 * U_ustar / lt / z0v_c\n",
    "    \n",
    "    # Final z0mv computation\n",
    "    z0mv = (htop * (1.0 - displa / htop) * np.exp(-vkc * U_ustar + np.log(z0v_cw) - 1.0 + z0v_cw**(-1.0))) # (7) (meters)\n",
    "\n",
    "    z0mv_array.append(z0mv)"
   ]
  },
  {
   "cell_type": "code",
   "execution_count": 23,
   "id": "a56ae953-994f-446c-86fb-a883c5d7fbb1",
   "metadata": {},
   "outputs": [
    {
     "data": {
      "text/plain": [
       "[<matplotlib.lines.Line2D at 0x1466a8b128d0>]"
      ]
     },
     "execution_count": 23,
     "metadata": {},
     "output_type": "execute_result"
    },
    {
     "data": {
      "image/png": "[encoded data removed]",
      "text/plain": [
       "<Figure size 432x288 with 1 Axes>"
      ]
     },
     "metadata": {
      "needs_background": "light"
     },
     "output_type": "display_data"
    }
   ],
   "source": [
    "plt.plot(np.arange(0.1,6.5,0.025),np.array(z0mv_array)/htop)"
   ]
  },
  {
   "cell_type": "code",
   "execution_count": null,
   "id": "cc69376f-49ae-46ee-8612-605b54e78f8c",
   "metadata": {},
   "outputs": [],
   "source": []
  }
 ],
 "metadata": {
  "kernelspec": {
   "display_name": "Python [conda env:miniconda3-ppe-py]",
   "language": "python",
   "name": "conda-env-miniconda3-ppe-py-py"
  },
  "language_info": {
   "codemirror_mode": {
    "name": "ipython",
    "version": 3
   },
   "file_extension": ".py",
   "mimetype": "text/x-python",
   "name": "python",
   "nbconvert_exporter": "python",
   "pygments_lexer": "ipython3",
   "version": "3.7.12"
  }
 },
 "nbformat": 4,
 "nbformat_minor": 5
}
